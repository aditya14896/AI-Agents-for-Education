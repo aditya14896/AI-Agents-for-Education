{
 "cells": [
  {
   "cell_type": "markdown",
   "id": "19b42f8e-5d83-466b-980b-cde8ec2d4ddf",
   "metadata": {},
   "source": [
    "# Multi-agent collaboration for student advising"
   ]
  },
  {
   "cell_type": "code",
   "execution_count": null,
   "id": "0aa640bd-3656-453d-833d-759838e1cd59",
   "metadata": {},
   "outputs": [],
   "source": [
    "#!python3 -m pip install --force-reinstall --no-cache -q -r requirements.txt"
   ]
  },
  {
   "cell_type": "code",
   "execution_count": null,
   "id": "8e65d798-e893-4caf-97aa-9f3093f9e553",
   "metadata": {},
   "outputs": [],
   "source": [
    "!pip install termcolor"
   ]
  },
  {
   "cell_type": "markdown",
   "id": "06d38a49-613e-418a-b982-db0ba69d80c6",
   "metadata": {},
   "source": [
    "# Agent Configuration"
   ]
  },
  {
   "cell_type": "code",
   "execution_count": null,
   "id": "8aeb0db9-a63e-4b3e-80db-84199d93d80c",
   "metadata": {},
   "outputs": [],
   "source": [
    "agent_instruction = \"\"\"\n",
    "You are a supervisor agent responsible for coordinating between a text2sql agent and a course advisor agent. Your role is to:\n",
    "\n",
    "1. Analyze user queries and determine which agent(s) should handle the request\n",
    "2. Route requests to the appropriate agent(s)\n",
    "3. Combine responses when needed\n",
    "4. Ensure smooth interaction between agents when a task requires both agents\n",
    "\n",
    "Guidelines for request handling:\n",
    "1. For text2sql related queries (involving student information, course schedule, student schedule):\n",
    "   - Route to the text2sql agent\n",
    "\n",
    "2. For course and program related queries:\n",
    "   - Route to the course advisor agent\n",
    "\n",
    "3. For complex queries requiring both systems:\n",
    "   - Break down the request into sub-tasks\n",
    "   - Route each sub-task to the appropriate agent\n",
    "   - Combine the responses in a meaningful way\n",
    "   - Example: \"What courses are offerred this semester that's relevant to student's major\"\n",
    "\n",
    "Response formatting:\n",
    "\n",
    "1. Clearly indicate which agent provided which part of the response\n",
    "2. Maintain context between related pieces of information\n",
    "3. Present combined information in a logical and easy-to-understand format\n",
    "\n",
    "Error handling:\n",
    "\n",
    "1. If an agent cannot process a request, relay the error and suggest alternatives\n",
    "2. If unsure about which agent should handle a request, ask the user for clarification\n",
    "3. Ensure that partial failures don't prevent the delivery of available information\n",
    "\n",
    "When interacting with users:\n",
    "1. Maintain a helpful and professional tone\n",
    "2. Clearly communicate which system is being queried\n",
    "3. Ask for clarification when needed to route requests properly\n",
    "\n",
    "Remember: Your primary role is to coordinate and ensure effective communication between the specialized agents while providing a seamless experience for the user.\n",
    "\n",
    "\"\"\""
   ]
  },
  {
   "cell_type": "code",
   "execution_count": null,
   "id": "552c251a-f791-4617-a992-152f1f65926d",
   "metadata": {},
   "outputs": [],
   "source": [
    "# to retrieve text2sql_agent_alias_arn, course_advisor_agent_alias_arn\n",
    "%store -r text2sql_agent_alias_arn\n",
    "%store -r course_advisor_agent_alias_arn"
   ]
  },
  {
   "cell_type": "code",
   "execution_count": null,
   "id": "e284fb6f-ffd3-42e0-8c80-e7f2190a03bd",
   "metadata": {},
   "outputs": [],
   "source": [
    "agent_name = 'course-recommendation-multi-agent'\n",
    "agent_foundation_model = \"anthropic.claude-3-5-sonnet-20241022-v2:0\"\n",
    "agent_description = \"Multi-agent collaboration for course recommendation\"\n",
    "sub_agents_list = [\n",
    "    {\n",
    "        'sub_agent_alias_arn': text2sql_agent_alias_arn,\n",
    "        'sub_agent_instruction': \"\"\"Use this agent to handle retrieving information through sql queries and letting other agents handle their specific domains.\"\"\",\n",
    "        'sub_agent_association_name': 'Text2sqlAssistant',\n",
    "        'relay_conversation_history': 'DISABLED'\n",
    "    },\n",
    "    {\n",
    "        'sub_agent_alias_arn': course_advisor_agent_alias_arn,\n",
    "        'sub_agent_instruction': \"\"\"Use this agent to handle course and program requirement related questions while letting other agents handle their specific domains.\"\"\",\n",
    "        'sub_agent_association_name': 'CourseAssistant',\n",
    "        'relay_conversation_history': 'DISABLED'\n",
    "    }\n",
    "]"
   ]
  },
  {
   "cell_type": "markdown",
   "id": "eb768e5c-89ae-48f1-aa24-12264c565ce5",
   "metadata": {},
   "source": [
    "# Create Agent"
   ]
  },
  {
   "cell_type": "code",
   "execution_count": null,
   "id": "fa1be867-5986-44f5-8b85-9a028063d2d5",
   "metadata": {},
   "outputs": [],
   "source": [
    "from bedrock_agent_helper import AgentsForAmazonBedrock\n",
    "\n",
    "agent = AgentsForAmazonBedrock()\n",
    "supervisor_agent_id, supervisor_agent_alias_id, supervisor_agent_alias_arn = agent.create_agent(\n",
    "    'testing-api-attemp', \n",
    "    agent_description,\n",
    "    agent_instruction,\n",
    "    model_ids=[agent_foundation_model],\n",
    "    agent_collaboration='SUPERVISOR_ROUTER'\n",
    ")"
   ]
  },
  {
   "cell_type": "code",
   "execution_count": null,
   "id": "6693acbe-1a65-48bc-a38f-3537c8860257",
   "metadata": {},
   "outputs": [],
   "source": [
    "supervisor_agent_alias_id, supervisor_agent_alias_arn = agent.associate_sub_agents(\n",
    "    supervisor_agent_id, sub_agents_list\n",
    ")\n",
    "supervisor_agent_alias_id, supervisor_agent_alias_arn"
   ]
  },
  {
   "cell_type": "code",
   "execution_count": null,
   "id": "3b264a49-89d2-4c9f-8838-bfd534a9d67c",
   "metadata": {},
   "outputs": [],
   "source": []
  }
 ],
 "metadata": {
  "kernelspec": {
   "display_name": "conda_python3",
   "language": "python",
   "name": "conda_python3"
  },
  "language_info": {
   "codemirror_mode": {
    "name": "ipython",
    "version": 3
   },
   "file_extension": ".py",
   "mimetype": "text/x-python",
   "name": "python",
   "nbconvert_exporter": "python",
   "pygments_lexer": "ipython3",
   "version": "3.10.16"
  }
 },
 "nbformat": 4,
 "nbformat_minor": 5
}
